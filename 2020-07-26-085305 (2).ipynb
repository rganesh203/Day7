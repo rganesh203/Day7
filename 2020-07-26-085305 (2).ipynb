{
 "cells": [
  {
   "cell_type": "code",
   "execution_count": 3,
   "metadata": {
    "collapsed": false
   },
   "outputs": [
    {
     "name": "stdout",
     "output_type": "stream",
     "text": [
      "[0, 1, 2, 10, 4, 1, 0, 56, 2, 0, 1, 3, 0, 56, 0, 4]\n"
     ]
    }
   ],
   "source": [
    "List1 = [0, 1, 2, 10, 4, 1, 0, 56, 2, 0, 1, 3, 0, 56, 0, 4]\n",
    "print(List1)"
   ]
  },
  {
   "cell_type": "code",
   "execution_count": 4,
   "metadata": {
    "collapsed": false
   },
   "outputs": [
    {
     "name": "stdout",
     "output_type": "stream",
     "text": [
      "[0, 0, 0, 0, 0, 1, 1, 1, 2, 2, 3, 4, 4, 10, 56, 56]\n"
     ]
    }
   ],
   "source": [
    "List1.sort()\n",
    "print(List1)"
   ]
  },
  {
   "cell_type": "code",
   "execution_count": 15,
   "metadata": {
    "collapsed": false
   },
   "outputs": [
    {
     "name": "stdout",
     "output_type": "stream",
     "text": [
      "[56, 56, 10, 4, 4, 3, 2, 2, 1, 1, 1, 0, 0, 0, 0, 0]\n"
     ]
    }
   ],
   "source": [
    "List1.sort(reverse=3)\n",
    "print(List1)"
   ]
  },
  {
   "cell_type": "code",
   "execution_count": 18,
   "metadata": {
    "collapsed": false
   },
   "outputs": [
    {
     "name": "stdout",
     "output_type": "stream",
     "text": [
      "[10, 20, 40, 60, 70, 80]\n",
      "[5, 15, 25, 35, 45, 60]\n"
     ]
    }
   ],
   "source": [
    "list1 = [10, 20, 40, 60, 70, 80]\n",
    "list2 = [5, 15, 25, 35, 45, 60]\n",
    "print(list1)\n",
    "print(list2)"
   ]
  },
  {
   "cell_type": "code",
   "execution_count": 8,
   "metadata": {
    "cocalc": {
     "outputs": {
      "0": {
       "name": "input",
       "opts": {
        "password": false,
        "prompt": "Enter total numbers of the first list : "
       },
       "output_type": "stream",
       "value": "6"
      },
      "1": {
       "name": "input",
       "opts": {
        "password": false,
        "prompt": "Enter : "
       },
       "output_type": "stream",
       "value": "10"
      },
      "10": {
       "name": "input",
       "opts": {
        "password": false,
        "prompt": "Enter : "
       },
       "output_type": "stream",
       "value": "25"
      },
      "11": {
       "name": "input",
       "opts": {
        "password": false,
        "prompt": "Enter : "
       },
       "output_type": "stream",
       "value": "35"
      },
      "12": {
       "name": "input",
       "opts": {
        "password": false,
        "prompt": "Enter : "
       },
       "output_type": "stream",
       "value": "45"
      },
      "13": {
       "name": "input",
       "opts": {
        "password": false,
        "prompt": "Enter : "
       },
       "output_type": "stream",
       "value": "60"
      },
      "2": {
       "name": "input",
       "opts": {
        "password": false,
        "prompt": "Enter : "
       },
       "output_type": "stream",
       "value": "20"
      },
      "3": {
       "name": "input",
       "opts": {
        "password": false,
        "prompt": "Enter : "
       },
       "output_type": "stream",
       "value": "40"
      },
      "4": {
       "name": "input",
       "opts": {
        "password": false,
        "prompt": "Enter : "
       },
       "output_type": "stream",
       "value": "60"
      },
      "5": {
       "name": "input",
       "opts": {
        "password": false,
        "prompt": "Enter : "
       },
       "output_type": "stream",
       "value": "70"
      },
      "6": {
       "name": "input",
       "opts": {
        "password": false,
        "prompt": "Enter : "
       },
       "output_type": "stream",
       "value": "80"
      },
      "7": {
       "name": "input",
       "opts": {
        "password": false,
        "prompt": "Enter total numbers of the second list : "
       },
       "output_type": "stream",
       "value": "6"
      },
      "8": {
       "name": "input",
       "opts": {
        "password": false,
        "prompt": "Enter : "
       },
       "output_type": "stream",
       "value": "5"
      },
      "9": {
       "name": "input",
       "opts": {
        "password": false,
        "prompt": "Enter : "
       },
       "output_type": "stream",
       "value": "15"
      }
     }
    },
    "collapsed": false
   },
   "outputs": [
    {
     "name": "stdout",
     "output_type": "stream",
     "text": "Enter total numbers of the first list :  6"
    },
    {
     "name": "stdout",
     "output_type": "stream",
     "text": "Enter :  10"
    },
    {
     "name": "stdout",
     "output_type": "stream",
     "text": "Enter :  20"
    },
    {
     "name": "stdout",
     "output_type": "stream",
     "text": "Enter :  40"
    },
    {
     "name": "stdout",
     "output_type": "stream",
     "text": "Enter :  60"
    },
    {
     "name": "stdout",
     "output_type": "stream",
     "text": "Enter :  70"
    },
    {
     "name": "stdout",
     "output_type": "stream",
     "text": "Enter :  80"
    },
    {
     "name": "stdout",
     "output_type": "stream",
     "text": "Enter total numbers of the second list :  6"
    },
    {
     "name": "stdout",
     "output_type": "stream",
     "text": "Enter :  5"
    },
    {
     "name": "stdout",
     "output_type": "stream",
     "text": "Enter :  15"
    },
    {
     "name": "stdout",
     "output_type": "stream",
     "text": "Enter :  25"
    },
    {
     "name": "stdout",
     "output_type": "stream",
     "text": "Enter :  35"
    },
    {
     "name": "stdout",
     "output_type": "stream",
     "text": "Enter :  45"
    },
    {
     "name": "stdout",
     "output_type": "stream",
     "text": "Enter :  60"
    },
    {
     "name": "stdout",
     "output_type": "stream",
     "text": [
      "First list:  [10, 20, 40, 60, 70, 80, 10, 20, 40, 60, 70, 80]\n",
      "Second list:  [5, 15, 25, 35, 45, 60, 5, 15, 25, 35, 45, 60]\n",
      "Final list :  [5, 5, 10, 10, 15, 15, 20, 20, 25, 25, 35, 35, 40, 40, 45, 45, 60, 60, 60, 60, 70, 70, 80, 80]\n"
     ]
    }
   ],
   "source": [
    "list1 = [10, 20, 40, 60, 70, 80]\n",
    "list2 = [5, 15, 25, 35, 45, 60]\n",
    "\n",
    "#get total count for the first list\n",
    "count_list1 = int(input(\"Enter total numbers of the first list : \"))\n",
    "#take inputs from the user for the first list\n",
    "for i in range(1,count_list1+1):\n",
    "  no = int(input(\"Enter : \"))\n",
    "  list1.append(no)\n",
    "\n",
    "#get total count for the second list\n",
    "count_list2 = int(input(\"Enter total numbers of the second list : \"))\n",
    "#take inputs from the user for the second list\n",
    "for i in range(1,count_list2+1):\n",
    "  no = int(input(\"Enter : \"))\n",
    "  list2.append(no)\n",
    "  \n",
    "#print first and second list\n",
    "print(\"First list: \",list1)\n",
    "print(\"Second list: \",list2)\n",
    "\n",
    "#append both list\n",
    "final_list = list1 + list2\n",
    "#sort the final list\n",
    "final_list.sort()\n",
    "\n",
    "#print the final sorted list\n",
    "print(\"Final list : \",final_list)"
   ]
  },
  {
   "cell_type": "code",
   "execution_count": 1,
   "metadata": {
    "collapsed": false
   },
   "outputs": [
    {
     "ename": "IndentationError",
     "evalue": "expected an indented block (<ipython-input-1-a23e56bc5acc>, line 6)",
     "output_type": "error",
     "traceback": [
      "\u001b[0;36m  File \u001b[0;32m\"<ipython-input-1-a23e56bc5acc>\"\u001b[0;36m, line \u001b[0;32m6\u001b[0m\n\u001b[0;31m    res[key] = value\u001b[0m\n\u001b[0m      ^\u001b[0m\n\u001b[0;31mIndentationError\u001b[0m\u001b[0;31m:\u001b[0m expected an indented block\n"
     ]
    }
   ],
   "source": [
    "list1=[1,2,3,4,5,7,8]\n",
    "list2= [\"a\",\"b\",\"c\",\"d\",\"e\"]\n",
    "res = {}\n",
    "for key in list1:\n",
    "    for value in list2:\n",
    "    res[key] = value\n",
    "    list2.remove(value)\n",
    "    break \n",
    "print(\"dictionary output is : \" + str(res))"
   ]
  },
  {
   "cell_type": "code",
   "execution_count": 13,
   "metadata": {
    "collapsed": false
   },
   "outputs": [
    {
     "name": "stdout",
     "output_type": "stream",
     "text": [
      "Original key list is : [1, 2, 3, 4, 5, 7, 8]\n",
      "Original value list is : ['a', 'b', 'c', 'd', 'e']\n",
      "Resultant dictionary is : {1: 'a', 2: 'b', 3: 'c', 4: 'd', 5: 'e'}\n"
     ]
    }
   ],
   "source": [
    "test_keys = [1,2,3,4,5,7,8] \n",
    "test_values = [\"a\",\"b\",\"c\",\"d\",\"e\"]\n",
    "  \n",
    "# Printing original keys-value lists \n",
    "print (\"Original key list is : \" + str(test_keys)) \n",
    "print (\"Original value list is : \" + str(test_values)) \n",
    "  \n",
    "# using naive method \n",
    "# to convert lists to dictionary \n",
    "res = {} \n",
    "for key in test_keys: \n",
    "    for value in test_values: \n",
    "        res[key] = value \n",
    "        test_values.remove(value) \n",
    "        break  \n",
    "  \n",
    "# Printing resultant dictionary  \n",
    "print (\"Resultant dictionary is : \" +  str(res))"
   ]
  },
  {
   "cell_type": "code",
   "execution_count": 3,
   "metadata": {
    "collapsed": false
   },
   "outputs": [
    {
     "name": "stdout",
     "output_type": "stream",
     "text": [
      "{'ftp': 21, 'ssh': 22, 'telnet': 23, 'http': 80}\n"
     ]
    }
   ],
   "source": [
    "port1={ 21: 'ftp', 22: 'ssh', 23: 'telnet', 80: 'http'}\n",
    "port2={}\n",
    "for k,v in port1.items():\n",
    "    port2[v]=k\n",
    "\n",
    "print(port2)"
   ]
  },
  {
   "cell_type": "code",
   "execution_count": 4,
   "metadata": {
    "collapsed": false
   },
   "outputs": [
    {
     "name": "stdout",
     "output_type": "stream",
     "text": [
      "{'ftp': 21, 'ssh': 22, 'telnet': 23, 'http': 80}\n"
     ]
    }
   ],
   "source": [
    "#list comprehension\n",
    "port2={v:k for k,v in port1.items()}\n",
    "print(port2)"
   ]
  },
  {
   "cell_type": "code",
   "execution_count": 5,
   "metadata": {
    "collapsed": false
   },
   "outputs": [
    {
     "data": {
      "text/plain": [
       "[3, 7, 11, 9]"
      ]
     },
     "execution_count": 5,
     "metadata": {
     },
     "output_type": "execute_result"
    }
   ],
   "source": [
    "list1=[(1,2),(3,4),(5,6),(4,5)]\n",
    "list2=[]\n",
    "for i in list1:\n",
    "    list2.append(i[0]+i[1])\n",
    "    \n",
    "list2"
   ]
  },
  {
   "cell_type": "code",
   "execution_count": 6,
   "metadata": {
    "collapsed": false
   },
   "outputs": [
    {
     "data": {
      "text/plain": [
       "[3, 7, 11, 9]"
      ]
     },
     "execution_count": 6,
     "metadata": {
     },
     "output_type": "execute_result"
    }
   ],
   "source": [
    "list2=[]\n",
    "#list comprehension\n",
    "[list2.append(i[0]+i[1])  for i in list1]\n",
    "list2"
   ]
  },
  {
   "cell_type": "code",
   "execution_count": 7,
   "metadata": {
    "collapsed": false
   },
   "outputs": [
    {
     "name": "stdout",
     "output_type": "stream",
     "text": [
      "[1, 2, 3, [1, 2, 'a', 'hit', 'less']]\n"
     ]
    }
   ],
   "source": [
    "l=[(1,2,3),[1,2],[\"a\",\"hit\",\"less\"]]\n",
    "l2=l[1]+l[2]\n",
    "l1=list(l[0])\n",
    "l1.append(l2)\n",
    "print(l1)"
   ]
  },
  {
   "cell_type": "code",
   "execution_count": 8,
   "metadata": {
    "collapsed": false
   },
   "outputs": [
    {
     "name": "stdout",
     "output_type": "stream",
     "text": [
      "[1, 2, 3, [1, 2, 'a', 'hit', 'less']]\n"
     ]
    }
   ],
   "source": [
    "l=[(1,2,3),[1,2],[\"a\",\"hit\",\"less\"]]\n",
    "l2=[]\n",
    "for i in l:\n",
    "    if type(i)==tuple:\n",
    "        l1=list(i)\n",
    "    if type(i)==list:\n",
    "        l2=l2+i\n",
    "        \n",
    "l1.append(l2)\n",
    "print(l1)"
   ]
  },
  {
   "cell_type": "code",
   "execution_count": 0,
   "metadata": {
    "collapsed": false
   },
   "outputs": [
   ],
   "source": [
   ]
  }
 ],
 "metadata": {
  "kernelspec": {
   "display_name": "Python 3 (system-wide)",
   "language": "python",
   "metadata": {
    "cocalc": {
     "description": "Python 3 programming language",
     "priority": 100,
     "url": "https://www.python.org/"
    }
   },
   "name": "python3"
  },
  "language_info": {
   "codemirror_mode": {
    "name": "ipython",
    "version": 3
   },
   "file_extension": ".py",
   "mimetype": "text/x-python",
   "name": "python",
   "nbconvert_exporter": "python",
   "pygments_lexer": "ipython3",
   "version": "3.6.9"
  }
 },
 "nbformat": 4,
 "nbformat_minor": 4
}